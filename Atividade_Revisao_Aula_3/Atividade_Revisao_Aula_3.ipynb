{
  "cells": [
    {
      "cell_type": "markdown",
      "metadata": {
        "id": "HHa2nJmwZycV"
      },
      "source": [
        "# **Aprendizado Supervisionado - Aula 3**"
      ]
    },
    {
      "cell_type": "markdown",
      "metadata": {
        "id": "KXY2fDS5aCYK"
      },
      "source": [
        "***Nesta atividade você deverá demonstrar os conhecimentos adquiridos até o momento, aplicando-os em uma tarefa de aprendizado supervisionado.***"
      ]
    },
    {
      "cell_type": "markdown",
      "metadata": {
        "id": "UOx2zMBJfSRW"
      },
      "source": [
        "\n",
        "*   Você deverá utilizar o conjunto de dados ***Social Network Ads***, disponível em: https://www.kaggle.com/rakeshrau/social-network-ads/download ou [Download arquivo](https://drive.google.com/file/d/1840_pUTLcu1VM9avDxpo3t9p6cKV2nmc/view?usp=sharing\n",
        ")\n",
        "\n",
        "> Este conjunto de dados (dataset) apresenta dados sobre usuários em uma rede social e seu comportamento de compra. O objetivo do seu projeto final é utilizar ML para responder se um determinado usuário, após clicar em um anúncio na rede social comprará ou não um determinado produto. (Purchased, 0 = não, 1 = sim)\n",
        "\n"
      ]
    },
    {
      "cell_type": "markdown",
      "metadata": {
        "id": "1qIw8z_Z5JzD"
      },
      "source": [
        "\n",
        "*   Utilize as bibliotecas Numpy, Pandas, Matplotlib, Scikit-learn e outras que achar necessárias para realizar as atividades\n"
      ]
    },
    {
      "cell_type": "markdown",
      "metadata": {
        "id": "Wmf7-aw15TUR"
      },
      "source": [
        "\n",
        "\n",
        "---\n",
        "\n"
      ]
    },
    {
      "cell_type": "markdown",
      "metadata": {
        "id": "teOR4SgJgCaZ"
      },
      "source": [
        "1.\tRealizar a análise exploratória dos dados e aplicar técnicas de pré-processamento caso sejam necessárias"
      ]
    },
    {
      "cell_type": "code",
      "execution_count": 10,
      "metadata": {
        "id": "4i1HxKe-3ZWI"
      },
      "outputs": [],
      "source": [
        "# Importando bibliotecas necessárias\n",
        "import pandas as pd\n",
        "import matplotlib.pyplot as plt\n",
        "import seaborn as sns\n",
        "\n",
        "from sklearn.model_selection import train_test_split\n",
        "\n",
        "from sklearn.linear_model import LinearRegression #Regressão Linear\n",
        "from sklearn.tree import DecisionTreeRegressor, plot_tree #Árvores de Regressão\n",
        "from sklearn.tree import export_text\n",
        "\n",
        "from sklearn.metrics import mean_squared_error, r2_score #Métricas"
      ]
    },
    {
      "cell_type": "code",
      "execution_count": 11,
      "metadata": {
        "id": "-k3GqNbZ3x7U"
      },
      "outputs": [
        {
          "name": "stdout",
          "output_type": "stream",
          "text": [
            "Requirement already satisfied: kaggle in c:\\users\\natha\\desktop\\facens\\9 semestre\\ia\\ai-classes\\venv\\lib\\site-packages (1.6.17)\n",
            "Requirement already satisfied: six>=1.10 in c:\\users\\natha\\desktop\\facens\\9 semestre\\ia\\ai-classes\\venv\\lib\\site-packages (from kaggle) (1.17.0)\n",
            "Requirement already satisfied: certifi>=2023.7.22 in c:\\users\\natha\\desktop\\facens\\9 semestre\\ia\\ai-classes\\venv\\lib\\site-packages (from kaggle) (2025.1.31)\n",
            "Requirement already satisfied: python-dateutil in c:\\users\\natha\\desktop\\facens\\9 semestre\\ia\\ai-classes\\venv\\lib\\site-packages (from kaggle) (2.9.0.post0)\n",
            "Requirement already satisfied: requests in c:\\users\\natha\\desktop\\facens\\9 semestre\\ia\\ai-classes\\venv\\lib\\site-packages (from kaggle) (2.32.3)\n",
            "Requirement already satisfied: tqdm in c:\\users\\natha\\desktop\\facens\\9 semestre\\ia\\ai-classes\\venv\\lib\\site-packages (from kaggle) (4.67.1)\n",
            "Requirement already satisfied: python-slugify in c:\\users\\natha\\desktop\\facens\\9 semestre\\ia\\ai-classes\\venv\\lib\\site-packages (from kaggle) (8.0.4)\n",
            "Requirement already satisfied: urllib3 in c:\\users\\natha\\desktop\\facens\\9 semestre\\ia\\ai-classes\\venv\\lib\\site-packages (from kaggle) (2.3.0)\n",
            "Requirement already satisfied: bleach in c:\\users\\natha\\desktop\\facens\\9 semestre\\ia\\ai-classes\\venv\\lib\\site-packages (from kaggle) (6.2.0)\n",
            "Requirement already satisfied: webencodings in c:\\users\\natha\\desktop\\facens\\9 semestre\\ia\\ai-classes\\venv\\lib\\site-packages (from bleach->kaggle) (0.5.1)\n",
            "Requirement already satisfied: text-unidecode>=1.3 in c:\\users\\natha\\desktop\\facens\\9 semestre\\ia\\ai-classes\\venv\\lib\\site-packages (from python-slugify->kaggle) (1.3)\n",
            "Requirement already satisfied: charset-normalizer<4,>=2 in c:\\users\\natha\\desktop\\facens\\9 semestre\\ia\\ai-classes\\venv\\lib\\site-packages (from requests->kaggle) (3.4.1)\n",
            "Requirement already satisfied: idna<4,>=2.5 in c:\\users\\natha\\desktop\\facens\\9 semestre\\ia\\ai-classes\\venv\\lib\\site-packages (from requests->kaggle) (3.10)\n",
            "Requirement already satisfied: colorama in c:\\users\\natha\\desktop\\facens\\9 semestre\\ia\\ai-classes\\venv\\lib\\site-packages (from tqdm->kaggle) (0.4.6)\n"
          ]
        },
        {
          "name": "stderr",
          "output_type": "stream",
          "text": [
            "\n",
            "[notice] A new release of pip is available: 24.2 -> 25.0.1\n",
            "[notice] To update, run: python.exe -m pip install --upgrade pip\n"
          ]
        },
        {
          "name": "stdout",
          "output_type": "stream",
          "text": [
            "Dataset URL: https://www.kaggle.com/datasets/rakeshrau/social-network-ads\n",
            "License(s): unknown\n",
            "social-network-ads.zip: Skipping, found more recently modified local copy (use --force to force download)\n"
          ]
        },
        {
          "name": "stderr",
          "output_type": "stream",
          "text": [
            "'unzip' n�o � reconhecido como um comando interno\n",
            "ou externo, um programa oper�vel ou um arquivo em lotes.\n",
            "'rm' n�o � reconhecido como um comando interno\n",
            "ou externo, um programa oper�vel ou um arquivo em lotes.\n"
          ]
        }
      ],
      "source": [
        "# --- Importar o conjunto de dados\n",
        "! pip install kaggle\n",
        "! kaggle datasets download -d rakeshrau/social-network-ads\n",
        "! unzip corn-crop-growth.zip\n",
        "! rm corn-crop-growth.zip"
      ]
    },
    {
      "cell_type": "code",
      "execution_count": 12,
      "metadata": {
        "id": "mz7UAJ1N7HeY"
      },
      "outputs": [
        {
          "name": "stdout",
          "output_type": "stream",
          "text": [
            "<class 'pandas.core.frame.DataFrame'>\n",
            "RangeIndex: 400 entries, 0 to 399\n",
            "Data columns (total 5 columns):\n",
            " #   Column           Non-Null Count  Dtype \n",
            "---  ------           --------------  ----- \n",
            " 0   User ID          400 non-null    int64 \n",
            " 1   Gender           400 non-null    object\n",
            " 2   Age              400 non-null    int64 \n",
            " 3   EstimatedSalary  400 non-null    int64 \n",
            " 4   Purchased        400 non-null    int64 \n",
            "dtypes: int64(4), object(1)\n",
            "memory usage: 15.8+ KB\n"
          ]
        },
        {
          "data": {
            "text/html": [
              "<div>\n",
              "<style scoped>\n",
              "    .dataframe tbody tr th:only-of-type {\n",
              "        vertical-align: middle;\n",
              "    }\n",
              "\n",
              "    .dataframe tbody tr th {\n",
              "        vertical-align: top;\n",
              "    }\n",
              "\n",
              "    .dataframe thead th {\n",
              "        text-align: right;\n",
              "    }\n",
              "</style>\n",
              "<table border=\"1\" class=\"dataframe\">\n",
              "  <thead>\n",
              "    <tr style=\"text-align: right;\">\n",
              "      <th></th>\n",
              "      <th>User ID</th>\n",
              "      <th>Gender</th>\n",
              "      <th>Age</th>\n",
              "      <th>EstimatedSalary</th>\n",
              "      <th>Purchased</th>\n",
              "    </tr>\n",
              "  </thead>\n",
              "  <tbody>\n",
              "    <tr>\n",
              "      <th>0</th>\n",
              "      <td>15624510</td>\n",
              "      <td>Male</td>\n",
              "      <td>19</td>\n",
              "      <td>19000</td>\n",
              "      <td>0</td>\n",
              "    </tr>\n",
              "    <tr>\n",
              "      <th>1</th>\n",
              "      <td>15810944</td>\n",
              "      <td>Male</td>\n",
              "      <td>35</td>\n",
              "      <td>20000</td>\n",
              "      <td>0</td>\n",
              "    </tr>\n",
              "    <tr>\n",
              "      <th>2</th>\n",
              "      <td>15668575</td>\n",
              "      <td>Female</td>\n",
              "      <td>26</td>\n",
              "      <td>43000</td>\n",
              "      <td>0</td>\n",
              "    </tr>\n",
              "    <tr>\n",
              "      <th>3</th>\n",
              "      <td>15603246</td>\n",
              "      <td>Female</td>\n",
              "      <td>27</td>\n",
              "      <td>57000</td>\n",
              "      <td>0</td>\n",
              "    </tr>\n",
              "    <tr>\n",
              "      <th>4</th>\n",
              "      <td>15804002</td>\n",
              "      <td>Male</td>\n",
              "      <td>19</td>\n",
              "      <td>76000</td>\n",
              "      <td>0</td>\n",
              "    </tr>\n",
              "  </tbody>\n",
              "</table>\n",
              "</div>"
            ],
            "text/plain": [
              "    User ID  Gender  Age  EstimatedSalary  Purchased\n",
              "0  15624510    Male   19            19000          0\n",
              "1  15810944    Male   35            20000          0\n",
              "2  15668575  Female   26            43000          0\n",
              "3  15603246  Female   27            57000          0\n",
              "4  15804002    Male   19            76000          0"
            ]
          },
          "execution_count": 12,
          "metadata": {},
          "output_type": "execute_result"
        }
      ],
      "source": [
        "# --- Explorar o conjunto de dados e realizar pré-processamento se necessário\n",
        "df = pd.read_csv('Social_Network_Ads.csv')\n",
        "\n",
        "df.info() #Informações gerais sobre o dataset\n",
        "df.head() #Visualização das primeiras linhas do dataset"
      ]
    },
    {
      "cell_type": "markdown",
      "metadata": {
        "id": "DqfL1qQSgGUO"
      },
      "source": [
        "2.\tImplementar ao menos um método de aprendizado supervisionado"
      ]
    },
    {
      "cell_type": "code",
      "execution_count": 13,
      "metadata": {
        "id": "_BycuPlr69-2"
      },
      "outputs": [],
      "source": [
        "# ---\n",
        "from sklearn.neighbors import KNeighborsClassifier\n",
        "from sklearn.preprocessing import OneHotEncoder\n",
        "\n",
        "\n",
        "drop_null = df.dropna() #Removendo linhas com valores nulos\n",
        "df_encoded = pd.get_dummies(drop_null, columns=['Gender'])\n",
        "df_encoded.head()\n",
        "\n",
        "X = df_encoded.drop('Purchased', axis=1)\n",
        "y = df_encoded['Purchased']\n",
        "\n",
        "\n",
        "# Dividir os dados em conjunto de treino e teste\n",
        "X_train, X_test, y_train, y_test = train_test_split(X, y, test_size=0.3, random_state=42)\n",
        "\n",
        "k = 3 #Número de vizinhos próximos\n",
        "\n",
        "knn = KNeighborsClassifier(n_neighbors=k)\n",
        "knn.fit(X_train, y_train)\n",
        "y_pred = knn.predict(X_test)"
      ]
    },
    {
      "cell_type": "markdown",
      "metadata": {
        "id": "ZUvptHCQiy0T"
      },
      "source": [
        "3.\tUtilizar ao menos alguma técnica de avaliação do desempenho do modelo"
      ]
    },
    {
      "cell_type": "code",
      "execution_count": null,
      "metadata": {
        "id": "hFb_dc157AwN"
      },
      "outputs": [
        {
          "name": "stdout",
          "output_type": "stream",
          "text": [
            "A acurácia do classificador é: 0.725\n"
          ]
        },
        {
          "data": {
            "image/png": "[encoded data removed]",
            "text/plain": [
              "<Figure size 640x480 with 2 Axes>"
            ]
          },
          "metadata": {},
          "output_type": "display_data"
        }
      ],
      "source": [
        "import matplotlib.pyplot as plt\n",
        "from sklearn.preprocessing import LabelEncoder\n",
        "from sklearn.metrics import accuracy_score, confusion_matrix, ConfusionMatrixDisplay\n",
        "\n",
        "# Exibir a acurácia\n",
        "print(\"A acurácia do classificador é:\", accuracy_score(y_test, y_pred))\n",
        "\n",
        "# Criando um LabelEncoder e ajustando aos valores únicos de y_test\n",
        "label_encoder = LabelEncoder()\n",
        "label_encoder.fit(y_test)  # Treina o LabelEncoder com os rótulos verdadeiros\n",
        "\n",
        "# Exibir a matriz de confusão corretamente\n",
        "disp = ConfusionMatrixDisplay(\n",
        "    confusion_matrix=confusion_matrix(y_test, y_pred),\n",
        "    display_labels=label_encoder.classes_  # Aqui usamos o objeto instanciado\n",
        ")\n",
        "\n",
        "disp.plot()\n",
        "plt.title(f'Matriz de Confusão para K={k}')\n",
        "plt.show()\n",
        "\n",
        "from sklearn import metrics\n",
        "\n",
        "print(metrics.classification_report(y_test, y_pred))"
      ]
    },
    {
      "cell_type": "markdown",
      "metadata": {
        "id": "jtKYp-jWgPEf"
      },
      "source": [
        "4.\tRealizar análise do desempenho do modelo escolhido. Exemplos: indicar se foi necessário realizar algum pré-processamento nos dados, comentar sobre os hiperparâmetros usados, explicar os resultados e a técnica de validação utilizada, entre outras."
      ]
    },
    {
      "cell_type": "markdown",
      "metadata": {
        "id": "-aONQXWp26u7"
      },
      "source": [
        "> *Digite sua análise aqui - Descritiva*\n",
        "\n"
      ]
    }
  ],
  "metadata": {
    "colab": {
      "provenance": []
    },
    "kernelspec": {
      "display_name": "venv",
      "language": "python",
      "name": "python3"
    },
    "language_info": {
      "codemirror_mode": {
        "name": "ipython",
        "version": 3
      },
      "file_extension": ".py",
      "mimetype": "text/x-python",
      "name": "python",
      "nbconvert_exporter": "python",
      "pygments_lexer": "ipython3",
      "version": "3.12.6"
    }
  },
  "nbformat": 4,
  "nbformat_minor": 0
}
