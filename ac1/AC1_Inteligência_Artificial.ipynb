{
  "cells": [
    {
      "cell_type": "markdown",
      "metadata": {
        "id": "Cs9E_R5yD48u"
      },
      "source": [
        "# **AC \\#1**: Inteligência Artificial\n",
        "Facens - Sorocaba\n",
        "\n",
        "Prof. Adson Nogueira Alves\n",
        "\n",
        "E-mail adson.alves@facens.br\n",
        "\n"
      ]
    },
    {
      "cell_type": "code",
      "execution_count": 6,
      "metadata": {
        "id": "tFS9Oum_RJX9"
      },
      "outputs": [
        {
          "name": "stdout",
          "output_type": "stream",
          "text": [
            "200065: Nathan Roberto Gonçalves dos Santos\n"
          ]
        }
      ],
      "source": [
        "# TODO: RA & Name\n",
        "print('200065: ' + 'Nathan Roberto Gonçalves dos Santos')"
      ]
    },
    {
      "cell_type": "markdown",
      "metadata": {
        "id": "IVGH2s7fD_03"
      },
      "source": [
        "## Objetivo: Prever as taxas de mortalidade por câncer para os condados dos EUA.\n",
        "\n",
        "Explore alternativas de **regressão linear** e desenvolva o melhor modelo possível para os problemas, evitando o overfitting. Em particular, preveja a **TARGET_deathRate** a partir de seus atributos."
      ]
    },
    {
      "cell_type": "markdown",
      "metadata": {
        "id": "3-vucFoNa3Fc"
      },
      "source": [
        "## Conjunto de Dados\n",
        "\n",
        "Esses dados foram agregados de várias fontes, incluindo o American Community Survey (census.gov), clinicaltrials.gov e cancer.gov.\n",
        "\n",
        "O conjunto de dados contém a taxa de mortalidade e os atributos de 3.047 condados.\n",
        "\n",
        "Informações do Conjunto de Dados: Você deve respeitar a seguinte divisão treino/teste: 2042 exemplos de treino e 305 exemplos de teste.\n",
        "\n",
        "Existem 33 atributos, conforme segue:\n",
        "\n",
        "Dicionário de Dados\n",
        "\n",
        "1: avgAnnCount: Número médio de casos reportados de câncer diagnosticados anualmente (a)\n",
        "\n",
        "2: avgDeathsPerYear: Número médio de mortes reportadas devido ao câncer (a)\n",
        "\n",
        "3: incidenceRate: Taxa média de diagnósticos de câncer per capita (100.000) (a)\n",
        "\n",
        "4: medianIncome: Renda média por condado (b)\n",
        "\n",
        "5: popEst2015: População do condado (b)\n",
        "\n",
        "6: povertyPercent: Percentual da população em situação de pobreza (b)\n",
        "\n",
        "7: studyPerCap: Número per capita de ensaios clínicos relacionados ao câncer por condado (a)\n",
        "\n",
        "8: binnedInc: Renda média per capita agrupada por decil (b)\n",
        "\n",
        "9: MedianAge: Idade média dos residentes do condado (b)\n",
        "\n",
        "10: MedianAgeMale: Idade média dos residentes masculinos do condado (b)\n",
        "\n",
        "11: MedianAgeFemale: Idade média dos residentes femininos do condado (b)\n",
        "\n",
        "12: Geography: Nome do condado (b)\n",
        "\n",
        "13: AvgHouseholdSize: Tamanho médio dos lares no condado (b)\n",
        "\n",
        "14: PercentMarried: Percentual de residentes do condado casados (b)\n",
        "\n",
        "15: PctNoHS18_24: Percentual de residentes do condado com idades entre 18-24 anos que atingiram o ensino médio ou menos (b)\n",
        "\n",
        "16: PctHS18_24: Percentual de residentes do condado com idades entre 18-24 anos que atingiram o diploma de ensino médio (b)\n",
        "\n",
        "17: PctSomeCol18_24: Percentual de residentes do condado com idades entre 18-24 anos que atingiram algum nível de educação universitária (b)\n",
        "\n",
        "18: PctBachDeg18_24: Percentual de residentes do condado com idades entre 18-24 anos que atingiram o diploma de bacharel (b)\n",
        "\n",
        "19: PctHS25_Over: Percentual de residentes do condado com idades acima de 25 anos que atingiram o diploma de ensino médio (b)\n",
        "\n",
        "20: PctBachDeg25_Over: Percentual de residentes do condado com idades acima de 25 anos que atingiram o diploma de bacharel (b)\n",
        "\n",
        "21: PctEmployed16_Over: Percentual de residentes do condado com idades acima de 16 anos empregados (b)\n",
        "\n",
        "22: PctUnemployed16_Over: Percentual de residentes do condado com idades acima de 16 anos desempregados (b)\n",
        "\n",
        "23: PctPrivateCoverage: Percentual de residentes do condado com cobertura de saúde privada (b)\n",
        "\n",
        "24: PctPrivateCoverageAlone: Percentual de residentes do condado com cobertura de saúde privada apenas (sem assistência pública) (b)\n",
        "\n",
        "25: PctEmpPrivCoverage: Percentual de residentes do condado com cobertura de saúde privada fornecida por empregador (b)\n",
        "\n",
        "26: PctPublicCoverage: Percentual de residentes do condado com cobertura de saúde pública (b)\n",
        "\n",
        "27: PctPubliceCoverageAlone: Percentual de residentes do condado com cobertura de saúde pública apenas (b)\n",
        "\n",
        "28: PctWhite: Percentual de residentes do condado que se identificam como brancos (b)\n",
        "\n",
        "29: PctBlack: Percentual de residentes do condado que se identificam como negros (b)\n",
        "\n",
        "30: PctAsian: Percentual de residentes do condado que se identificam como asiáticos (b)\n",
        "\n",
        "31: PctOtherRace: Percentual de residentes do condado que se identificam como pertencentes a outras etnias que não brancos, negros ou asiáticos (b)\n",
        "\n",
        "32: PctMarriedHouseholds: Percentual de lares casados (b)\n",
        "\n",
        "33: BirthRate: Número de nascimentos vivos relativo ao número de mulheres no condado (b)\n",
        "\n",
        "TARGET_deathRate: Variável dependente. Taxa média de mortalidade por câncer per capita (100.000) (a)\n",
        "\n",
        "(a): anos de 2010 a 2016\n",
        "\n",
        "(b): Estimativas do Censo de 2013\n",
        "\n",
        "Os dados estão disponíveis em:\n",
        "\n",
        "treino: https://docs.google.com/spreadsheets/d/1mglppL3qIhx5Osp2wsoENN3HPnGpzkcaFpw7i9nsTvQ/edit?usp=sharing\n",
        "\n",
        "teste: https://docs.google.com/spreadsheets/d/1AuNcBH2c7hDEE1WScZIcbiH16fTr66C19S29d5uGnfo/edit?usp=sharing"
      ]
    },
    {
      "cell_type": "markdown",
      "metadata": {
        "id": "5d495CmpCltx"
      },
      "source": [
        "## Atividades\n",
        "\n",
        "1. (5 pontos) Realize a Regressão Linear. Você deve implementar alguma solução e compará-la com o sklearn.linear_model.SGDRegressor (modelo linear ajustado minimizando uma perda empírica regularizada com SGD, http://scikit-learn.org).\n",
        "\n",
        "**Nota: Alguns fatores a considerar: Existem outliers? Há valores faltantes? Como você lidará com variáveis categóricas?**"
      ]
    },
    {
      "cell_type": "code",
      "execution_count": null,
      "metadata": {
        "id": "64qT-FZbj_vn"
      },
      "outputs": [],
      "source": [
        "import pandas as pd\n",
        "import numpy as np\n",
        "import re\n",
        "# from sklearn.model_selection import GridSearchCV\n",
        "from sklearn.preprocessing import StandardScaler\n",
        "from sklearn.compose import ColumnTransformer\n",
        "from sklearn.pipeline import Pipeline\n",
        "from sklearn.linear_model import LinearRegression, SGDRegressor\n",
        "from sklearn.metrics import mean_squared_error, mean_absolute_error, r2_score\n",
        "import matplotlib.pyplot as plt\n",
        "\n",
        "# 1. Carregar os dados\n",
        "train_df = pd.read_csv(\"data-trainAc1.csv\")\n",
        "test_df = pd.read_csv(\"data-testAc1.csv\")\n",
        "\n",
        "# Função para converter os intervalos de renda em valores numéricos (média do intervalo)\n",
        "def convert_binnedinc_to_numeric(binned_str):\n",
        "    \"\"\"\n",
        "    Converte strings no formato de intervalo \"(min, max]\" ou \"[min, max]\" em um valor numérico.\n",
        "    \"\"\"\n",
        "    numbers = re.findall(r\"[\\d\\.]+\", binned_str)  # Extrai os números do intervalo\n",
        "    if len(numbers) == 2:\n",
        "        min_val, max_val = map(float, numbers)\n",
        "        return (min_val + max_val) / 2  # Retorna a média do intervalo\n",
        "    return np.nan  # Retorna NaN se o formato for inesperado\n",
        "\n",
        "# Aplicar a conversão nos datasets\n",
        "train_df[\"binnedinc\"] = train_df[\"binnedinc\"].apply(convert_binnedinc_to_numeric)\n",
        "test_df[\"binnedinc\"] = test_df[\"binnedinc\"].apply(convert_binnedinc_to_numeric)\n",
        "\n",
        "# Remover registros com valores faltantes\n",
        "train_df = train_df.dropna()\n",
        "test_df = test_df.dropna()\n",
        "\n",
        "# Separar a variável alvo e os atributos\n",
        "X_train = train_df.drop(columns=[\"target_deathrate\", \"geography\"])\n",
        "y_train = train_df[\"target_deathrate\"]\n",
        "\n",
        "X_test = test_df.drop(columns=[\"target_deathrate\", \"geography\"])\n",
        "y_test = test_df[\"target_deathrate\"]\n",
        "\n",
        "# 2. Pré-processamento\n",
        "numeric_features = X_train.select_dtypes(include=[\"int64\", \"float64\"]).columns.tolist()\n",
        "\n",
        "numeric_transformer = Pipeline(steps=[\n",
        "    ('scaler', StandardScaler())\n",
        "])\n",
        "\n",
        "preprocessor = ColumnTransformer(transformers=[\n",
        "    ('num', numeric_transformer, numeric_features)\n",
        "])\n",
        "\n",
        "# 3. Modelagem com Regressão Linear Clássica\n",
        "pipeline_lr = Pipeline(steps=[\n",
        "    ('preprocessor', preprocessor),\n",
        "    ('regressor', LinearRegression())\n",
        "])\n",
        "\n",
        "pipeline_lr.fit(X_train, y_train)\n",
        "y_pred_lr = pipeline_lr.predict(X_test)\n",
        "\n",
        "# 4. Modelagem com SGDRegressor seguindo a documentação oficial\n",
        "sgd_regressor = SGDRegressor(max_iter=1000, tol=1e-3, penalty='l2', alpha=0.0001, random_state=42)\n",
        "\n",
        "pipeline_sgd = Pipeline(steps=[\n",
        "    ('preprocessor', preprocessor),\n",
        "    ('regressor', sgd_regressor)\n",
        "])\n",
        "\n",
        "pipeline_sgd.fit(X_train, y_train)\n",
        "y_pred_sgd = pipeline_sgd.predict(X_test)\n",
        "\n",
        "# 5. Avaliação dos Modelos\n",
        "def print_metrics(y_true, y_pred, model_name):\n",
        "    mse = mean_squared_error(y_true, y_pred)\n",
        "    rmse = np.sqrt(mse)\n",
        "    mae = mean_absolute_error(y_true, y_pred)\n",
        "    r2 = r2_score(y_true, y_pred)\n",
        "    print(f\"{model_name} - MSE: {mse:.3f}, RMSE: {rmse:.3f}, MAE: {mae:.3f}, R²: {r2:.3f}\")\n",
        "\n",
        "print_metrics(y_test, y_pred_lr, \"Regressão Linear\")\n",
        "print_metrics(y_test, y_pred_sgd, \"SGDRegressor\")\n",
        "\n",
        "# 6. Visualização dos resultados do melhor modelo (exemplo com REG Linear)\n",
        "plt.figure(figsize=(8, 6))\n",
        "plt.scatter(y_test, y_pred_lr, alpha=0.7)\n",
        "plt.xlabel(\"Valores Reais\")\n",
        "plt.ylabel(\"Valores Preditos\")\n",
        "plt.title(\"REG Linear: Valores Reais vs. Preditos\")\n",
        "plt.plot([y_test.min(), y_test.max()], [y_test.min(), y_test.max()], 'r--')\n",
        "plt.show()\n",
        "\n",
        "# 7. Visualização dos resultados do melhor modelo (exemplo com SGDRegressor)\n",
        "plt.figure(figsize=(8, 6))\n",
        "plt.scatter(y_test, y_pred_sgd, alpha=0.7)\n",
        "plt.xlabel(\"Valores Reais\")\n",
        "plt.ylabel(\"Valores Preditos\")\n",
        "plt.title(\"SGDRegressor: Valores Reais vs. Preditos\")\n",
        "plt.plot([y_test.min(), y_test.max()], [y_test.min(), y_test.max()], 'r--')\n",
        "plt.show()\n"
      ]
    },
    {
      "cell_type": "markdown",
      "metadata": {
        "id": "zBNZQNImKQeo"
      },
      "source": [
        "## Conclusões Atividade 1\n",
        "\n",
        "Quais são as conclusões? (1-2 parágrafos)\n",
        "\n",
        "\n"
      ]
    },
    {
      "cell_type": "markdown",
      "metadata": {
        "id": "OvxjHZJFf_ok"
      },
      "source": [
        "*Coloque sua resposta aqui ...*"
      ]
    },
    {
      "cell_type": "markdown",
      "metadata": {
        "id": "ADxPBRhuK_Vq"
      },
      "source": [
        "2. (2 pontos) Utilize 3 diferentes taxas de aprendizado de Gradiente Descendente (GD) ao otimizar. Compare as soluções baseadas em GD com a Equação Normal. Quais são as conclusões?\n"
      ]
    },
    {
      "cell_type": "markdown",
      "metadata": {
        "id": "XrPl7jKgJPW6"
      },
      "source": [
        "3. (3 pontos) Às vezes, precisamos de uma função mais complexa para fazer boas previsões. Elabore e avalie um modelo de Regressão Linear Polinomial.\n"
      ]
    },
    {
      "cell_type": "markdown",
      "metadata": {
        "id": "BYuHHX8BNQEc"
      },
      "source": [
        "## Conclusões Atividades 2 e 3"
      ]
    },
    {
      "cell_type": "markdown",
      "metadata": {
        "id": "rBLKtosaLaCw"
      },
      "source": [
        "Quais são as conclusões? (1-2 parágrafos)\n"
      ]
    },
    {
      "cell_type": "markdown",
      "metadata": {
        "id": "VkLc_9UohqqC"
      },
      "source": [
        "*Coloque sua resposta aqui ...*"
      ]
    },
    {
      "cell_type": "markdown",
      "metadata": {
        "id": "OF8VNewLtU1X"
      },
      "source": [
        "## Resultados com o Conjunto de Dados de Teste\n"
      ]
    },
    {
      "cell_type": "code",
      "execution_count": 8,
      "metadata": {
        "id": "SdyR35D6iOSX"
      },
      "outputs": [],
      "source": [
        "# seu codigo"
      ]
    },
    {
      "cell_type": "code",
      "execution_count": 9,
      "metadata": {
        "id": "yxsa1Y2muT6a"
      },
      "outputs": [],
      "source": [
        "# Linear Model with SDGRegressor\n"
      ]
    },
    {
      "cell_type": "code",
      "execution_count": 10,
      "metadata": {
        "id": "P4HF1P5juUFR"
      },
      "outputs": [],
      "source": [
        "# Polynomial model with SDGRegressor\n"
      ]
    },
    {
      "cell_type": "markdown",
      "metadata": {
        "id": "kdSGS4brHnAi"
      },
      "source": [
        "## Prazo\n",
        "\n",
        "Terça-feira, 01 de abril, às 23h59.\n",
        "\n",
        "Política de penalização para envio atrasado: Não é encorajado o envio de sua tarefa após a data de vencimento. No entanto, caso você o faça, sua nota será penalizada da seguinte forma:\n",
        "\n",
        "02 de abril, 23h59: nota * 0,75\n",
        "03 de abril, 23h59: nota * 0,5\n",
        "04 de abril, 23h59: nota * 0,25\n",
        "Após: nota * 0\n"
      ]
    },
    {
      "cell_type": "markdown",
      "metadata": {
        "id": "joN9pvZJIfW5"
      },
      "source": [
        "## Envio\n",
        "\n",
        "Por e-mail adson.alves@facens.br, envie seu Notebook.\n",
        "\n",
        "Esta atividade é individual."
      ]
    }
  ],
  "metadata": {
    "colab": {
      "collapsed_sections": [
        "kdSGS4brHnAi",
        "joN9pvZJIfW5"
      ],
      "provenance": []
    },
    "kernelspec": {
      "display_name": "venv",
      "language": "python",
      "name": "python3"
    },
    "language_info": {
      "codemirror_mode": {
        "name": "ipython",
        "version": 3
      },
      "file_extension": ".py",
      "mimetype": "text/x-python",
      "name": "python",
      "nbconvert_exporter": "python",
      "pygments_lexer": "ipython3",
      "version": "3.12.6"
    }
  },
  "nbformat": 4,
  "nbformat_minor": 0
}
